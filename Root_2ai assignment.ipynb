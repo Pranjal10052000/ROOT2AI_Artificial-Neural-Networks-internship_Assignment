{
 "cells": [
  {
   "cell_type": "code",
   "execution_count": 17,
   "metadata": {},
   "outputs": [],
   "source": [
    "import pandas as pd \n",
    "import numpy as np\n",
    "from sklearn.ensemble import RandomForestClassifier"
   ]
  },
  {
   "cell_type": "code",
   "execution_count": 18,
   "metadata": {},
   "outputs": [],
   "source": [
    "df = pd.read_excel('root2ai.xlsx')"
   ]
  },
  {
   "cell_type": "code",
   "execution_count": 23,
   "metadata": {},
   "outputs": [],
   "source": [
    "independent=df.iloc[0:,0:1].values"
   ]
  },
  {
   "cell_type": "code",
   "execution_count": 24,
   "metadata": {},
   "outputs": [],
   "source": [
    "dependent=df.iloc[0:,1:].values"
   ]
  },
  {
   "cell_type": "code",
   "execution_count": 25,
   "metadata": {},
   "outputs": [],
   "source": [
    "from sklearn.model_selection import train_test_split\n",
    "x_train,x_test,y_train,y_test=train_test_split(independent,dependent,test_size=0.2,random_state=1)"
   ]
  },
  {
   "cell_type": "code",
   "execution_count": 29,
   "metadata": {},
   "outputs": [
    {
     "name": "stdout",
     "output_type": "stream",
     "text": [
      "x_train  [['this even applied oral speech recognition identify verbally agreed contract match trade financial thereafter order avoid trade']\n",
      " ['also medical equipment']\n",
      " ['before stop limit order consider following limit stop limit order executed stock price away limit price occur fast moving market']\n",
      " ...\n",
      " ['healthy development finance jointly ministry industry information technology people bank china eight regulatory china banking regulatory commission china insurance regulatory commission china information technology office']\n",
      " ['product development greater penetration accelerate pace product development change engage financially especially government']\n",
      " ['importer financial agreement behalf importer correspondent bank established relationship exporter bank']]\n",
      "x_test  [['however data form credit report extremely difficult integrate']\n",
      " ['this emotional perspective market mood often expressed analyses market increasingly social media']\n",
      " ['total']\n",
      " ...\n",
      " ['archive']\n",
      " ['preventive digital payment avoid fraud hacker hacker spoof demanding payment alternate account forged proof money transferred hacker bank account hacker financial sent outside hosting country closed soon funds received usually outside multiple client payment hacker mail server steal victim mail server hacker hacker bank account digital landscape spear spear mail fraud attempt specific seeking access confidential data transfer funds']\n",
      " ['example special aspect quality enabler quality']]\n",
      "y_train  [['FinTech']\n",
      " ['Blockchain']\n",
      " ['Stock Trading']\n",
      " ...\n",
      " ['credit reporting']\n",
      " ['FinTech']\n",
      " ['Blockchain']]\n",
      "y_test  [['credit reporting']\n",
      " ['FinTech']\n",
      " ['FinTech']\n",
      " ...\n",
      " ['Bigdata']\n",
      " ['Cyber Security']\n",
      " ['Microservices']]\n"
     ]
    }
   ],
   "source": [
    "print('x_train ',x_train)\n",
    "print('x_test ',x_test)\n",
    "print('y_train ',y_train)\n",
    "print('y_test ',y_test)"
   ]
  },
  {
   "cell_type": "code",
   "execution_count": null,
   "metadata": {},
   "outputs": [],
   "source": []
  }
 ],
 "metadata": {
  "kernelspec": {
   "display_name": "Python 3",
   "language": "python",
   "name": "python3"
  },
  "language_info": {
   "codemirror_mode": {
    "name": "ipython",
    "version": 3
   },
   "file_extension": ".py",
   "mimetype": "text/x-python",
   "name": "python",
   "nbconvert_exporter": "python",
   "pygments_lexer": "ipython3",
   "version": "3.7.6"
  }
 },
 "nbformat": 4,
 "nbformat_minor": 4
}
