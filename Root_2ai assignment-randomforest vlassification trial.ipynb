{
 "cells": [
  {
   "cell_type": "code",
   "execution_count": 2,
   "metadata": {},
   "outputs": [],
   "source": [
    "import pandas as pd \n",
    "import numpy as np\n",
    "from sklearn.ensemble import RandomForestClassifier"
   ]
  },
  {
   "cell_type": "code",
   "execution_count": 3,
   "metadata": {},
   "outputs": [],
   "source": [
    "df = pd.read_excel('root2ai.xlsx')"
   ]
  },
  {
   "cell_type": "code",
   "execution_count": 5,
   "metadata": {},
   "outputs": [
    {
     "data": {
      "text/plain": [
       "array([['reserve bank forming expert committee based institute development research banking technology study approach distributed ledger technology help support shift'],\n",
       "       ['director could play role financial system'],\n",
       "       ['preliminary discuss secure transaction study research payment'],\n",
       "       ...,\n",
       "       ['people culture cess'],\n",
       "       ['author challenges execu tive lead change stop asking think instead know data tell'],\n",
       "       ['change data driven culture come bottom must start']],\n",
       "      dtype=object)"
      ]
     },
     "execution_count": 5,
     "metadata": {},
     "output_type": "execute_result"
    }
   ],
   "source": [
    "independent=df.iloc[0:,0:1].values\n",
    "independent"
   ]
  },
  {
   "cell_type": "code",
   "execution_count": 118,
   "metadata": {},
   "outputs": [
    {
     "data": {
      "text/plain": [
       "(22704, 1)"
      ]
     },
     "execution_count": 118,
     "metadata": {},
     "output_type": "execute_result"
    }
   ],
   "source": [
    "dependent=df.iloc[0:,1:].values\n",
    "dependent.shape"
   ]
  },
  {
   "cell_type": "code",
   "execution_count": 15,
   "metadata": {},
   "outputs": [],
   "source": [
    "from sklearn.model_selection import train_test_split\n",
    "x_train,x_test,y_train,y_test=train_test_split(independent,dependent,test_size=0.2,random_state=1)"
   ]
  },
  {
   "cell_type": "code",
   "execution_count": 16,
   "metadata": {},
   "outputs": [
    {
     "name": "stdout",
     "output_type": "stream",
     "text": [
      "x_train  [['this even applied oral speech recognition identify verbally agreed contract match trade financial thereafter order avoid trade']\n",
      " ['also medical equipment']\n",
      " ['before stop limit order consider following limit stop limit order executed stock price away limit price occur fast moving market']\n",
      " ...\n",
      " ['healthy development finance jointly ministry industry information technology people bank china eight regulatory china banking regulatory commission china insurance regulatory commission china information technology office']\n",
      " ['product development greater penetration accelerate pace product development change engage financially especially government']\n",
      " ['importer financial agreement behalf importer correspondent bank established relationship exporter bank']]\n",
      "x_test  [['however data form credit report extremely difficult integrate']\n",
      " ['this emotional perspective market mood often expressed analyses market increasingly social media']\n",
      " ['total']\n",
      " ...\n",
      " ['archive']\n",
      " ['preventive digital payment avoid fraud hacker hacker spoof demanding payment alternate account forged proof money transferred hacker bank account hacker financial sent outside hosting country closed soon funds received usually outside multiple client payment hacker mail server steal victim mail server hacker hacker bank account digital landscape spear spear mail fraud attempt specific seeking access confidential data transfer funds']\n",
      " ['example special aspect quality enabler quality']]\n",
      "y_train  [['FinTech']\n",
      " ['Blockchain']\n",
      " ['Stock Trading']\n",
      " ...\n",
      " ['credit reporting']\n",
      " ['FinTech']\n",
      " ['Blockchain']]\n",
      "y_test  [['credit reporting']\n",
      " ['FinTech']\n",
      " ['FinTech']\n",
      " ...\n",
      " ['Bigdata']\n",
      " ['Cyber Security']\n",
      " ['Microservices']]\n"
     ]
    }
   ],
   "source": [
    "print('x_train ',x_train)\n",
    "print('x_test ',x_test)\n",
    "print('y_train ',y_train)\n",
    "print('y_test ',y_test)"
   ]
  },
  {
   "cell_type": "markdown",
   "metadata": {},
   "source": [
    "# Trying Randomforest Classifier converting characters into there AScii int values.\n",
    "a will contain char to char ascii int for the letters in line as evrything is importnat \n",
    "\n",
    "a will be out independent variable\n",
    "\n",
    "b will contain addition of 1st two letters of the word as we have 11 different out put values in which Bigdat and Blockchain have same intials so to avoid overlapping I have taken addition of 1st 2 letters askii value\n",
    "\n",
    "b will be our target/dependent variable\n"
   ]
  },
  {
   "cell_type": "markdown",
   "metadata": {},
   "source": [
    "# to get max len of a\n",
    "l=[]\n",
    "for i in a:\n",
    "    l.append(len(i))\n",
    "print('max of a lrn',max(l))\n",
    "#print(l)\n"
   ]
  },
  {
   "cell_type": "code",
   "execution_count": 149,
   "metadata": {},
   "outputs": [],
   "source": [
    "a=[]\n",
    "b=[0]\n",
    "for i in independent:\n",
    "    i = str(i)\n",
    "    a1=[0]*1574\n",
    "    c=0\n",
    "    for j in i:\n",
    "        a1[c] =(ord(j))\n",
    "        c += 1\n",
    "    a.append(a1)"
   ]
  },
  {
   "cell_type": "code",
   "execution_count": 150,
   "metadata": {},
   "outputs": [],
   "source": [
    "for i in dependent:\n",
    "    b.append(ord(i[0][0])+ord(i[0][1]))"
   ]
  },
  {
   "cell_type": "code",
   "execution_count": 151,
   "metadata": {},
   "outputs": [],
   "source": [
    "b = np.array(b)"
   ]
  },
  {
   "cell_type": "code",
   "execution_count": 152,
   "metadata": {},
   "outputs": [],
   "source": [
    "a = np.append([[0]*1574],a, axis=0)"
   ]
  },
  {
   "cell_type": "code",
   "execution_count": 155,
   "metadata": {},
   "outputs": [
    {
     "data": {
      "text/plain": [
       "(22705, 1574)"
      ]
     },
     "execution_count": 155,
     "metadata": {},
     "output_type": "execute_result"
    }
   ],
   "source": [
    "a.shape"
   ]
  },
  {
   "cell_type": "code",
   "execution_count": 156,
   "metadata": {},
   "outputs": [
    {
     "data": {
      "text/plain": [
       "(22705,)"
      ]
     },
     "execution_count": 156,
     "metadata": {},
     "output_type": "execute_result"
    }
   ],
   "source": [
    "b.shape"
   ]
  },
  {
   "cell_type": "markdown",
   "metadata": {},
   "source": [
    "# Data splitting into 80/20 ratio "
   ]
  },
  {
   "cell_type": "code",
   "execution_count": 158,
   "metadata": {},
   "outputs": [],
   "source": [
    "from sklearn.model_selection import train_test_split\n",
    "a_train,a_test,b_train,b_test=train_test_split(a,b,test_size=0.2,random_state=1)"
   ]
  },
  {
   "cell_type": "code",
   "execution_count": 159,
   "metadata": {},
   "outputs": [
    {
     "name": "stdout",
     "output_type": "stream",
     "text": [
      "(4541, 1574) (4541,)\n"
     ]
    }
   ],
   "source": [
    "print(a_test.shape,b_test.shape)"
   ]
  },
  {
   "cell_type": "markdown",
   "metadata": {},
   "source": [
    "# building RandomForest Classifier model"
   ]
  },
  {
   "cell_type": "code",
   "execution_count": 160,
   "metadata": {},
   "outputs": [],
   "source": [
    "clf = RandomForestClassifier()"
   ]
  },
  {
   "cell_type": "code",
   "execution_count": 161,
   "metadata": {},
   "outputs": [],
   "source": [
    "model = clf.fit(a_test,b_test)"
   ]
  },
  {
   "cell_type": "code",
   "execution_count": 162,
   "metadata": {},
   "outputs": [
    {
     "data": {
      "text/plain": [
       "RandomForestClassifier(bootstrap=True, ccp_alpha=0.0, class_weight=None,\n",
       "                       criterion='gini', max_depth=None, max_features='auto',\n",
       "                       max_leaf_nodes=None, max_samples=None,\n",
       "                       min_impurity_decrease=0.0, min_impurity_split=None,\n",
       "                       min_samples_leaf=1, min_samples_split=2,\n",
       "                       min_weight_fraction_leaf=0.0, n_estimators=100,\n",
       "                       n_jobs=None, oob_score=False, random_state=None,\n",
       "                       verbose=0, warm_start=False)"
      ]
     },
     "execution_count": 162,
     "metadata": {},
     "output_type": "execute_result"
    }
   ],
   "source": [
    "model"
   ]
  },
  {
   "cell_type": "code",
   "execution_count": 165,
   "metadata": {},
   "outputs": [
    {
     "data": {
      "text/plain": [
       "array([8.70290703e-05, 2.19945016e-04, 4.47069688e-02, ...,\n",
       "       0.00000000e+00, 0.00000000e+00, 0.00000000e+00])"
      ]
     },
     "execution_count": 165,
     "metadata": {},
     "output_type": "execute_result"
    }
   ],
   "source": [
    "clf.feature_importances_"
   ]
  },
  {
   "cell_type": "code",
   "execution_count": 166,
   "metadata": {},
   "outputs": [
    {
     "data": {
      "text/plain": [
       "0.4450011010790575"
      ]
     },
     "execution_count": 166,
     "metadata": {},
     "output_type": "execute_result"
    }
   ],
   "source": [
    "model.score(a_train, b_train)"
   ]
  },
  {
   "cell_type": "code",
   "execution_count": 168,
   "metadata": {},
   "outputs": [
    {
     "data": {
      "text/plain": [
       "0.9960361153930852"
      ]
     },
     "execution_count": 168,
     "metadata": {},
     "output_type": "execute_result"
    }
   ],
   "source": [
    "model.score(a_test, b_test)"
   ]
  },
  {
   "cell_type": "code",
   "execution_count": null,
   "metadata": {},
   "outputs": [],
   "source": []
  }
 ],
 "metadata": {
  "kernelspec": {
   "display_name": "Python 3",
   "language": "python",
   "name": "python3"
  },
  "language_info": {
   "codemirror_mode": {
    "name": "ipython",
    "version": 3
   },
   "file_extension": ".py",
   "mimetype": "text/x-python",
   "name": "python",
   "nbconvert_exporter": "python",
   "pygments_lexer": "ipython3",
   "version": "3.7.6"
  }
 },
 "nbformat": 4,
 "nbformat_minor": 4
}
